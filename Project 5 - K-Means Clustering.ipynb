{
 "cells": [
  {
   "cell_type": "markdown",
   "metadata": {},
   "source": [
    "# Project 5: K-Means Clustering\n",
    "\n",
    "Before we start, please put your name and CUID in following format\n",
    "\n",
    ": Firstname LASTNAME, #00000000   //   e.g. Nianyi LI, #12345678"
   ]
  },
  {
   "cell_type": "markdown",
   "metadata": {},
   "source": [
    "**Your Answer:**   \n",
    "Yujia Sun"
   ]
  },
  {
   "cell_type": "markdown",
   "metadata": {},
   "source": [
    "# General Rules of the Project Submission\n",
    "\n",
    "Python 3 and [Matplotlib](https://matplotlib.org/) will be used throughout the semseter, so it is important to be familiar with them. It is strongly suggested to go through [Stanford CS231n](http://cs231n.github.io/python-numpy-tutorial/) and [CS228](https://github.com/kuleshov/cs228-material/blob/master/tutorials/python/cs228-python-tutorial.ipynb) for more detailed Python and numpy tutorials if you haven't had used Python before. \n",
    "\n",
    "In some cells and files you will see code blocks that look like this:\n",
    "\n",
    "```python\n",
    "##############################################################################\n",
    "#                    TODO: Write the equation for a line                     #\n",
    "##############################################################################\n",
    "pass\n",
    "##############################################################################\n",
    "#                              END OF YOUR CODE                              #\n",
    "##############################################################################\n",
    "```\n",
    "\n",
    "You should replace the `pass` statement with your own code and leave the blocks intact, like this:\n",
    "\n",
    "```python\n",
    "##############################################################################\n",
    "#                    TODO: Write the equation for a line                     #\n",
    "##############################################################################\n",
    "y = m * x + b\n",
    "##############################################################################\n",
    "#                              END OF YOUR CODE                              #\n",
    "##############################################################################\n",
    "```\n",
    "\n",
    "When completing the notebook, please adhere to the following rules:\n",
    "- Do not write or modify any code outside of code blocks\n",
    "- Follow the instruction of the project description carefully\n",
    "- Run all cells before submitting. <span style=\"color:red\">**You will only get credit for code that has been run!**.</span>\n",
    "\n",
    "The last point is extremely important and bears repeating:\n",
    "\n",
    "### We will not re-run your notebook -- <span style=\"color:red\">you will only get credit for cells that have been run</span>\n",
    "\n",
    "### File name\n",
    "Your Python program should be named **yourlastname_yourfirstname_P5.ipynb**, then zip it and upload to Canvas"
   ]
  },
  {
   "cell_type": "markdown",
   "metadata": {},
   "source": [
    "# Project Description\n",
    "\n",
    "For this project you will implement a **K-means** clustering algorithm.\n"
   ]
  },
  {
   "cell_type": "markdown",
   "metadata": {},
   "source": [
    "## Data File"
   ]
  },
  {
   "cell_type": "markdown",
   "metadata": {},
   "source": [
    "Two text files with the data is available on Canvas: a data file and a centroids file. You need to write a code to read data from the two files. \n",
    "\n",
    "The **data file** will be formatted with the first line containing m and n, tab separated, where m is the number of lines of data and n is the number of features (for this assignment n will be 2 but assume we still put it into the file.)\n",
    "\n",
    "Each line will contain two real values (feature $x_1$ and feature $x_2$), tab separated. Such as the following:\n",
    "```\n",
    "\n",
    "4\t2\n",
    "6.3\t6.0\n",
    "6.7\t5.8\n",
    "5.7\t4.1\n",
    "5.6\t3.9\n",
    "```\n",
    "The **centroid file** containing two initial centroids, formatted with the number of centroids on the first line and the coordinates of each centroid on the following lines, one centroid per line, tab separated. Such as:\n",
    "```\n",
    "2\n",
    "4 4\n",
    "6 6\n",
    "```\n",
    "\n",
    "You **can** use packages, such as **panda**, to load the data.\n"
   ]
  },
  {
   "cell_type": "code",
   "execution_count": 1,
   "metadata": {},
   "outputs": [
    {
     "data": {
      "image/png": "[encoded data removed]",
      "text/plain": [
       "<Figure size 640x480 with 1 Axes>"
      ]
     },
     "metadata": {},
     "output_type": "display_data"
    }
   ],
   "source": [
    "##############################################################################\n",
    "#         TODO: Write the code for reading data from files                    #\n",
    "##############################################################################\n",
    "# Code to load centroids' coordinates\n",
    "import numpy as np\n",
    "import matplotlib.pyplot as plt\n",
    "\n",
    "cen_coord = np.loadtxt('P5_Centroids.txt', skiprows=1)\n",
    "cen_x1 = cen_coord[:, 0]\n",
    "cen_x2 = cen_coord[:, 1]\n",
    "plt.scatter(cen_x1[0], cen_x2[0], color = 'Green', marker= 'v')\n",
    "plt.scatter(cen_x1[1], cen_x2[1], color = 'Red', marker= 'v')\n",
    "\n",
    "# Code to load data points' coordinates\n",
    "\n",
    "pt_coord = np.loadtxt('P5_Data.txt', skiprows=1)\n",
    "pt_x1 = pt_coord[:, 0]\n",
    "pt_x2 = pt_coord[:, 1]\n",
    "plt.scatter(pt_x1, pt_x2, color = 'Purple', marker= 'o')\n",
    "plt.xlabel('x1 Axis')\n",
    "plt.ylabel('x2 Axis')\n",
    "plt.title(\"Initial Data Points\")\n",
    "plt.show()\n",
    "##############################################################################\n",
    "#                              END OF YOUR CODE                              #\n",
    "##############################################################################"
   ]
  },
  {
   "cell_type": "code",
   "execution_count": 18,
   "metadata": {},
   "outputs": [
    {
     "name": "stdout",
     "output_type": "stream",
     "text": [
      "[6.02666667 5.01636364]\n",
      "[2.79111111 3.34181818]\n",
      "[[6.02666667 2.79111111]\n",
      " [5.01636364 3.34181818]]\n"
     ]
    }
   ],
   "source": [
    "print(cen_x1)\n",
    "print(cen_x2)\n",
    "print(cen_coord)"
   ]
  },
  {
   "cell_type": "markdown",
   "metadata": {},
   "source": [
    "Next, you need to print out a plot of the data to the screen, including the two initial centroids (color coded) like the following figure:\n",
    "\n",
    "<div>\n",
    "<img src=\"https://nianyil.people.clemson.edu/CPSC_4430/P5_1.jpg\" width=\"400\"/>\n",
    "</div>"
   ]
  },
  {
   "cell_type": "raw",
   "metadata": {},
   "source": []
  },
  {
   "cell_type": "markdown",
   "metadata": {},
   "source": [
    "## K-means Clustering"
   ]
  },
  {
   "cell_type": "markdown",
   "metadata": {},
   "source": [
    "Implement K-means (**K=2**) to cluster the data into two groups."
   ]
  },
  {
   "cell_type": "code",
   "execution_count": null,
   "metadata": {},
   "outputs": [],
   "source": [
    "# def euclidean_dis(x1, x2):\n",
    "#     return np.sqrt(np.sum((x1-x2)**2))\n",
    "\n",
    "# old_centroids = cen_coord\n",
    "# new_centroids = cen_coord\n",
    "\n",
    "# class KMeans:\n",
    "#     def __init__(self, n_clusters=2, max_iter=10):\n",
    "#         self.n_clusters = n_clusters\n",
    "#         self.max_iter = max_iter\n",
    "        \n",
    "#         self.centroids = []\n",
    "        \n",
    "#     def \n"
   ]
  },
  {
   "cell_type": "code",
   "execution_count": 15,
   "metadata": {},
   "outputs": [
    {
     "name": "stdout",
     "output_type": "stream",
     "text": [
      "[array([7. , 3.2]), array([6.4, 3.2]), array([6.9, 3.1]), array([5.5, 2.3]), array([6.5, 2.8]), array([5.7, 2.8]), array([6.3, 3.3]), array([6.6, 2.9]), array([5., 2.]), array([5.9, 3. ]), array([6. , 2.2]), array([6.1, 2.9]), array([5.6, 2.9]), array([6.7, 3.1]), array([5.6, 3. ]), array([5.8, 2.7]), array([6.2, 2.2]), array([5.6, 2.5]), array([5.9, 3.2]), array([6.1, 2.8]), array([6.3, 2.5]), array([6.1, 2.8]), array([6.4, 2.9]), array([6.6, 3. ]), array([6.8, 2.8]), array([6.7, 3. ]), array([6. , 2.9]), array([5.7, 2.6]), array([5.5, 2.4]), array([5.5, 2.4]), array([5.8, 2.7]), array([6. , 2.7]), array([6. , 3.4]), array([6.7, 3.1]), array([6.3, 2.3]), array([5.6, 3. ]), array([5.5, 2.5]), array([5.5, 2.6]), array([6.1, 3. ]), array([5.8, 2.6]), array([5.6, 2.7]), array([5.7, 3. ]), array([5.7, 2.9]), array([6.2, 2.9]), array([5.7, 2.8])]\n",
      "[array([5.1, 3.5]), array([4.9, 3. ]), array([4.7, 3.2]), array([4.6, 3.1]), array([5. , 3.6]), array([5.4, 3.9]), array([4.6, 3.4]), array([5. , 3.4]), array([4.4, 2.9]), array([4.9, 3.1]), array([5.4, 3.7]), array([4.8, 3.4]), array([4.8, 3. ]), array([4.3, 3. ]), array([5.8, 4. ]), array([5.7, 4.4]), array([5.4, 3.9]), array([5.1, 3.5]), array([5.7, 3.8]), array([5.1, 3.8]), array([5.4, 3.4]), array([5.1, 3.7]), array([4.6, 3.6]), array([5.1, 3.3]), array([4.8, 3.4]), array([5., 3.]), array([5. , 3.4]), array([5.2, 3.5]), array([5.2, 3.4]), array([4.7, 3.2]), array([4.8, 3.1]), array([5.4, 3.4]), array([5.2, 4.1]), array([5.5, 4.2]), array([4.9, 3.1]), array([5. , 3.2]), array([5.5, 3.5]), array([4.9, 3.1]), array([4.4, 3. ]), array([5.1, 3.4]), array([5. , 3.5]), array([4.5, 2.3]), array([4.4, 3.2]), array([5. , 3.5]), array([5.1, 3.8]), array([4.8, 3. ]), array([5.1, 3.8]), array([4.6, 3.2]), array([5.3, 3.7]), array([5. , 3.3]), array([4.9, 2.4]), array([5.2, 2.7]), array([5.4, 3. ]), array([5. , 2.3]), array([5.1, 2.5])]\n",
      "Current Centroids in Iteration 0 :\n",
      "[[6.02666667 2.79111111]\n",
      " [5.01636364 3.34181818]]\n"
     ]
    },
    {
     "data": {
      "image/png": "[encoded data removed]",
      "text/plain": [
       "<Figure size 640x480 with 1 Axes>"
      ]
     },
     "metadata": {},
     "output_type": "display_data"
    }
   ],
   "source": [
    "##############################################################################\n",
    "#                TODO: Implement the K-means clustering                      #\n",
    "##############################################################################\n",
    "def euclidean_dis(x1, x2):\n",
    "    return np.sqrt(np.sum((x1-x2)**2))\n",
    "\n",
    "# old_centroids = np.array([[7.,2.], [4.,6.]])\n",
    "# new_centroids = np.array([[7.,2.], [4.,6.]])\n",
    "old_centroids = cen_coord\n",
    "new_centroids = cen_coord\n",
    "\n",
    "for iter in range(10):\n",
    "   \n",
    "    clusters = [[] for _ in range(2)]\n",
    "\n",
    "    for pt_id, pt in enumerate(pt_coord):\n",
    "        dis = [euclidean_dis(pt, cent) for cent in old_centroids]\n",
    "        close_cent = np.argmin(dis)\n",
    "        clusters[close_cent].append(pt)\n",
    "       \n",
    "   \n",
    "    for cluster_id, cluster in enumerate(clusters):\n",
    "       \n",
    "        print(cluster)\n",
    "        cluster_mean = np.mean(cluster, axis=0)\n",
    "        new_centroids[cluster_id] =  cluster_mean    \n",
    "   \n",
    "    print('Current Centroids in Iteration {} :'.format(iter))\n",
    "    print(old_centroids)\n",
    "   \n",
    "    plt.scatter(np.array(clusters[0])[:, 0], np.array(clusters[0])[:, 1], color = 'Green', marker= 'o')\n",
    "    plt.scatter(np.array(clusters[1])[:, 0], np.array(clusters[1])[:, 1], color = 'Red', marker= 'o')\n",
    "   \n",
    "    plt.scatter(new_centroids[0][0], new_centroids[0][1], color = 'Green', marker= 'v')\n",
    "    plt.scatter(new_centroids[1][0], new_centroids[1][1], color = 'Red', marker= 'v')\n",
    "    plt.title(\"Clustered Data Points\")\n",
    "    plt.xlabel('x1 Axis')\n",
    "    plt.ylabel('x2 Axis')\n",
    "    plt.show()          \n",
    "    # print((np.around(old_centroids, decimals=4) == np.around(new_centroids, decimals=4)).all())\n",
    "    if ((np.around(old_centroids, decimals=5) == np.around(new_centroids, decimals=5)).all()):\n",
    "        break\n",
    "    else:\n",
    "        old_centroids = new_centroids.copy()\n",
    "            \n",
    "##############################################################################\n",
    "#                              END OF YOUR CODE                              #\n",
    "##############################################################################"
   ]
  },
  {
   "cell_type": "code",
   "execution_count": 16,
   "metadata": {},
   "outputs": [
    {
     "name": "stdout",
     "output_type": "stream",
     "text": [
      "2\n"
     ]
    }
   ],
   "source": [
    "# print(cluster)\n",
    "print(len(clusters))\n"
   ]
  },
  {
   "cell_type": "markdown",
   "metadata": {},
   "source": [
    "Once the algorithm converged, print out a plot of the cluster data with each cluster color coded along with the final centroids like the following:\n",
    "<div>\n",
    "<img src=\"https://nianyil.people.clemson.edu/CPSC_4430/P5_2.jpg\" width=\"400\"/>\n",
    "</div>"
   ]
  },
  {
   "cell_type": "code",
   "execution_count": null,
   "metadata": {},
   "outputs": [],
   "source": [
    "##############################################################################\n",
    "#                TODO: Plot the clustering result                           #\n",
    "##############################################################################\n",
    "plt.scatter(np.array(clusters[0])[:, 0], np.array(clusters[0])[:, 1], color = 'Green', marker= 'o')\n",
    "plt.scatter(np.array(clusters[1])[:, 0], np.array(clusters[1])[:, 1], color = 'Red', marker= 'o')\n",
    "   \n",
    "plt.scatter(new_centroids[0][0], new_centroids[0][1], color = 'Green', marker= 'v')\n",
    "plt.scatter(new_centroids[1][0], new_centroids[1][1], color = 'Red', marker= 'v')\n",
    "plt.title(\"Clustered Data Points\")\n",
    "plt.xlabel('x1 Axis')\n",
    "plt.ylabel('x2 Axis')\n",
    "plt.show()\n",
    "##############################################################################\n",
    "#                              END OF YOUR CODE                              #\n",
    "##############################################################################"
   ]
  },
  {
   "cell_type": "markdown",
   "metadata": {},
   "source": [
    "Next, print out the coordinates of the final centroids."
   ]
  },
  {
   "cell_type": "code",
   "execution_count": null,
   "metadata": {},
   "outputs": [],
   "source": [
    "##############################################################################\n",
    "#       TODO: print out the final centroids' coordinates                     #\n",
    "##############################################################################\n",
    "print('FINAL CENTROIDS COORDINATES :')\n",
    "print(old_centroids) \n",
    "##############################################################################\n",
    "#                              END OF YOUR CODE                              #\n",
    "##############################################################################"
   ]
  },
  {
   "cell_type": "markdown",
   "metadata": {},
   "source": [
    "## Model Evaluation"
   ]
  },
  {
   "cell_type": "markdown",
   "metadata": {},
   "source": [
    "Compute and **print out the overall error** (J function presented in the course slides) for the entire data set.\n"
   ]
  },
  {
   "cell_type": "code",
   "execution_count": null,
   "metadata": {},
   "outputs": [],
   "source": [
    "##############################################################################\n",
    "#                           TODO: Model Evaluation                           #\n",
    "##############################################################################\n",
    "loss1 = np.sum((clusters[0] - old_centroids[0]) ** 2)/len(clusters[0])\n",
    "loss2 = np.sum((clusters[1] - old_centroids[1]) ** 2)/len(clusters[1])\n",
    "loss = loss1 + loss2\n",
    "print('FINAL LOSS :')\n",
    "print(loss)\n",
    "##############################################################################\n",
    "#                              END OF YOUR CODE                              #\n",
    "##############################################################################"
   ]
  },
  {
   "cell_type": "code",
   "execution_count": null,
   "metadata": {},
   "outputs": [],
   "source": []
  }
 ],
 "metadata": {
  "kernelspec": {
   "display_name": "Python 3 (ipykernel)",
   "language": "python",
   "name": "python3"
  },
  "language_info": {
   "codemirror_mode": {
    "name": "ipython",
    "version": 3
   },
   "file_extension": ".py",
   "mimetype": "text/x-python",
   "name": "python",
   "nbconvert_exporter": "python",
   "pygments_lexer": "ipython3",
   "version": "3.9.12"
  }
 },
 "nbformat": 4,
 "nbformat_minor": 4
}
