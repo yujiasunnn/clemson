{
 "cells": [
  {
   "cell_type": "markdown",
   "metadata": {},
   "source": [
    "# Project 1: Basic plotting in Python 3 with matplotlib.pyplot\n",
    "\n",
    "Before we start, please put your name and CUID in following format\n",
    "\n",
    ": Firstname LASTNAME, #00000000   //   e.g. Nianyi LI, #12345678"
   ]
  },
  {
   "cell_type": "markdown",
   "metadata": {},
   "source": [
    "**Your Answer:**   \n",
    "Yujia Sun"
   ]
  },
  {
   "cell_type": "markdown",
   "metadata": {},
   "source": [
    "# General Rules of the Project Submission\n",
    "\n",
    "Python 3 and [Matplotlib](https://matplotlib.org/) will be used throughout the semseter, so it is important to be familiar with them. It is strongly suggested to go through [Stanford CS231n](http://cs231n.github.io/python-numpy-tutorial/) and [CS228](https://github.com/kuleshov/cs228-material/blob/master/tutorials/python/cs228-python-tutorial.ipynb) for more detailed Python and numpy tutorials if you haven't had used Python before. \n",
    "\n",
    "In some cells and files you will see code blocks that look like this:\n",
    "\n",
    "```python\n",
    "##############################################################################\n",
    "#                    TODO: Write the equation for a line                     #\n",
    "##############################################################################\n",
    "pass\n",
    "##############################################################################\n",
    "#                              END OF YOUR CODE                              #\n",
    "##############################################################################\n",
    "```\n",
    "\n",
    "You should replace the `pass` statement with your own code and leave the blocks intact, like this:\n",
    "\n",
    "```python\n",
    "##############################################################################\n",
    "#                    TODO: Write the equation for a line                     #\n",
    "##############################################################################\n",
    "y = m * x + b\n",
    "##############################################################################\n",
    "#                              END OF YOUR CODE                              #\n",
    "##############################################################################\n",
    "```\n",
    "\n",
    "When completing the notebook, please adhere to the following rules:\n",
    "- Do not write or modify any code outside of code blocks\n",
    "- Follow the instruction of the project description carefully\n",
    "- Run all cells before submitting. <span style=\"color:red\">**You will only get credit for code that has been run!**.</span>\n",
    "\n",
    "The last point is extremely important and bears repeating:\n",
    "\n",
    "### We will not re-run your notebook -- <span style=\"color:red\">you will only get credit for cells that have been run</span>\n",
    "\n",
    "### File name\n",
    "Your Python program should be named **yourlastname_yourfirstname_P1.ipynb**, then zip it and upload to Canvas"
   ]
  },
  {
   "cell_type": "markdown",
   "metadata": {},
   "source": [
    "# Python 3\n",
    "\n",
    "If you're unfamiliar with Python 3, here are some of the most common changes from Python 2 to look out for."
   ]
  },
  {
   "cell_type": "markdown",
   "metadata": {},
   "source": [
    "### Print is a function"
   ]
  },
  {
   "cell_type": "code",
   "execution_count": null,
   "metadata": {},
   "outputs": [],
   "source": [
    "print(\"Hello!\")"
   ]
  },
  {
   "cell_type": "markdown",
   "metadata": {},
   "source": [
    "Without parentheses, printing will not work."
   ]
  },
  {
   "cell_type": "markdown",
   "metadata": {},
   "source": [
    "### Floating point division by default"
   ]
  },
  {
   "cell_type": "code",
   "execution_count": null,
   "metadata": {},
   "outputs": [],
   "source": [
    "5 / 2"
   ]
  },
  {
   "cell_type": "markdown",
   "metadata": {},
   "source": [
    "To do integer division, we use two backslashes:"
   ]
  },
  {
   "cell_type": "code",
   "execution_count": null,
   "metadata": {},
   "outputs": [],
   "source": [
    "5 // 2"
   ]
  },
  {
   "cell_type": "markdown",
   "metadata": {},
   "source": [
    "### No xrange"
   ]
  },
  {
   "cell_type": "markdown",
   "metadata": {},
   "source": [
    "The xrange from Python 2 is now merged into \"range\" for Python 3 and there is no xrange in Python 3. In Python 3, range(3) does not create a list of 3 elements as it would in Python 2, rather just creates a more memory efficient iterator.\n",
    "\n",
    "Hence,\n",
    "xrange in Python 3: Does not exist\n",
    "range in Python 3: Has very similar behavior to Python 2's xrange"
   ]
  },
  {
   "cell_type": "code",
   "execution_count": null,
   "metadata": {},
   "outputs": [],
   "source": [
    "for i in range(3):\n",
    "    print(i)"
   ]
  },
  {
   "cell_type": "code",
   "execution_count": null,
   "metadata": {},
   "outputs": [],
   "source": [
    "range(3)"
   ]
  },
  {
   "cell_type": "code",
   "execution_count": null,
   "metadata": {},
   "outputs": [],
   "source": [
    "# If need be, can use the following to get a similar behavior to Python 2's range:\n",
    "print(list(range(3)))"
   ]
  },
  {
   "cell_type": "markdown",
   "metadata": {},
   "source": [
    "# Project Description"
   ]
  },
  {
   "cell_type": "markdown",
   "metadata": {},
   "source": [
    "## Data File"
   ]
  },
  {
   "cell_type": "markdown",
   "metadata": {},
   "source": [
    "The first line of `IrisData.txt` contains two integers. The first represents how many lines of data are in the file. The second how many features are associated with each line. Each line after that contains four floating point values representing the sepal length, sepal width, petal length, and petal width of a type of iris flower, followed by the name of the iris type: either setosa, versicolor, or virginica. Values are tab separated."
   ]
  },
  {
   "cell_type": "markdown",
   "metadata": {},
   "source": [
    "## Python Program"
   ]
  },
  {
   "cell_type": "markdown",
   "metadata": {},
   "source": [
    "Write a Python program that will print out a **two-dimensional plot** of any two features for all three varieties of iris flowers using the features of `matplotlib.pyplot`. Your program should begin by asking for the name of the input file. For example:\n",
    "```python\n",
    "Enter the name of your data file: Irisdata.txt\n",
    "```"
   ]
  },
  {
   "cell_type": "code",
   "execution_count": 1,
   "metadata": {},
   "outputs": [
    {
     "name": "stdout",
     "output_type": "stream",
     "text": [
      "Enter the name of your input file: Irisdata.txt\n"
     ]
    }
   ],
   "source": [
    "##############################################################################\n",
    "#         TODO: Write the code for reading data from file                    #\n",
    "##############################################################################\n",
    "import matplotlib.pyplot as plt\n",
    "from matplotlib.lines import Line2D\n",
    "import numpy as np\n",
    "\n",
    "fileName = input(\"Enter the name of your input file: \")\n",
    "#open the text file and read the first line\n",
    "fin = open(fileName,'r')\n",
    "info = fin.readline().strip().split('\\t')\n",
    "\n",
    "#convert the number of rows and the number of columns to integers\n",
    "num_sample = int(info[0])\n",
    "num_feature = int(info[1])\n",
    "\n",
    "#create a two-dimensional array\n",
    "data = np.zeros([num_sample, num_feature + 1])\n",
    "\n",
    "#split the data by tab and newline, then put it into the array\n",
    "for i in range(num_sample):\n",
    "    sample = fin.readline().strip().split('\\t')\n",
    "    # print(sample)\n",
    "    for j in range(num_feature + 1):\n",
    "        # Encoder for label\n",
    "        if sample[j] == 'setosa':\n",
    "            data[i,num_feature] = int(0)\n",
    "        elif sample[j] == 'versicolor':\n",
    "            data[i,num_feature] = int(1)\n",
    "        elif sample[j] == 'virginica':\n",
    "            data[i,num_feature] = int(2)\n",
    "        else:\n",
    "            data[i,j] = float(sample[j])\n",
    "            \n",
    "            \n",
    "fin.close()\n",
    "#print(data)\n",
    "# Irisdata.txt\n",
    "##############################################################################\n",
    "#                              END OF YOUR CODE                              #\n",
    "##############################################################################"
   ]
  },
  {
   "cell_type": "markdown",
   "metadata": {},
   "source": [
    "Then the program should prompt the user for two features to plot. For example, it could say:\n",
    "```\n",
    "You can do a plot of any two features of the Iris Data set The feature codes are:\n",
    "0 = sepal length\n",
    "1 = sepal width\n",
    "2 = petal length\n",
    "3 = petal width\n",
    "```\n",
    "```python\n",
    "Enter feature code For the horizontal axis: 0\n",
    "Enter feature code For the vertical axis: 1\n",
    "```"
   ]
  },
  {
   "cell_type": "code",
   "execution_count": 2,
   "metadata": {},
   "outputs": [
    {
     "data": {
      "image/png": "[encoded data removed]",
      "text/plain": [
       "<Figure size 432x288 with 1 Axes>"
      ]
     },
     "metadata": {
      "needs_background": "light"
     },
     "output_type": "display_data"
    }
   ],
   "source": [
    "##############################################################################\n",
    "#   TODO: Write the function for plotting using two features of the data     #\n",
    "##############################################################################\n",
    "#define the function with parameters xcode and ycode \n",
    "def plot_feature_map(xcode, ycode):\n",
    "    for k in range(num_sample):\n",
    "        if data[k,num_feature] == 0:\n",
    "            setosa = plt.scatter(data[k,xcode], data[k,ycode], color = \"green\", marker = \"v\", label = \"setosa\")\n",
    "        elif data[k,num_feature] == 1:\n",
    "            versicolor = plt.scatter(data[k,xcode], data[k,ycode], color = \"blue\", marker = \"o\", label = \"versicolor\")\n",
    "        if data[k,num_feature] == 2:\n",
    "            virginica = plt.scatter(data[k,xcode], data[k,ycode], color = \"red\", marker = \"+\", label = \"virginica\")\n",
    "    \n",
    "    if xcode == 0:\n",
    "        x_axis = 'sepal length'\n",
    "    elif xcode == 1:\n",
    "        x_axis = 'sepal width'\n",
    "    elif xcode == 2:\n",
    "        x_axis = 'sepal width'\n",
    "    elif xcode == 3:\n",
    "        x_axis = 'petal width'\n",
    "    \n",
    "    if ycode == 0:\n",
    "        y_axis = 'sepal length'\n",
    "    elif ycode == 1:\n",
    "        y_axis = 'sepal width'\n",
    "    elif ycode == 2:\n",
    "        y_axis = 'sepal width'\n",
    "    elif ycode == 3:\n",
    "        y_axis = 'petal width'\n",
    "  \n",
    "    plt.xlabel(x_axis)\n",
    "    plt.ylabel(y_axis)\n",
    "    plt.title(\"Iris Flower Plot\")\n",
    "    plt.legend((setosa,versicolor,virginica), ('setosa', 'versicolor', 'virginica'), loc='upper right')\n",
    "\n",
    "    plt.show()\n",
    "    \n",
    "plot_feature_map(0, 1)\n",
    "\n",
    "##############################################################################\n",
    "#                              END OF YOUR CODE                              #\n",
    "##############################################################################"
   ]
  },
  {
   "cell_type": "markdown",
   "metadata": {},
   "source": [
    "Once the program does a plot it should ask the user if they want to another plot. For example:\n",
    "\n",
    "> Would you like to do another plot? (y/n) `y`\n",
    "\n",
    "\n",
    "If the answer is `y`, then the user should be prompted for new features to plot on the horizontal and vertical axes as before and a new plot generated. `n` should end the program.\n",
    "\n",
    "Plots should be labelled with a *title, axes should be labelled*, there should be a *legend* and all three varieties should be **color coded** and have different symbols. An example is shown below.\n",
    "\n",
    "![caption](https://nianyil.people.clemson.edu/CPSC_4430/P1.png)\n",
    "\n",
    "You need to try **at least 3 plots with different x and y labels combination**."
   ]
  },
  {
   "cell_type": "code",
   "execution_count": 8,
   "metadata": {},
   "outputs": [
    {
     "name": "stdout",
     "output_type": "stream",
     "text": [
      "You can do a plot of any two features of the Iris Data set The feature codes are:\n",
      "\n",
      " 0 = sepal length\n",
      " 1 = sepal width\n",
      " 2 = petal length\n",
      " 3 = petal width\n",
      "\n",
      "Enter feature code For the horizontal axis:0\n",
      "Enter feature code For the vertical axis:1\n"
     ]
    },
    {
     "data": {
      "image/png": "[encoded data removed]",
      "text/plain": [
       "<Figure size 432x288 with 1 Axes>"
      ]
     },
     "metadata": {
      "needs_background": "light"
     },
     "output_type": "display_data"
    },
    {
     "name": "stdout",
     "output_type": "stream",
     "text": [
      "Would you like to do another plot? (y/n):o\n",
      "Please enter (y/n)\n",
      "Would you like to do another plot? (y/n): y\n",
      "Enter feature code For the horizontal axis:1\n",
      "Enter feature code For the vertical axis:2\n"
     ]
    },
    {
     "data": {
      "image/png": "[encoded data removed]",
      "text/plain": [
       "<Figure size 432x288 with 1 Axes>"
      ]
     },
     "metadata": {
      "needs_background": "light"
     },
     "output_type": "display_data"
    },
    {
     "name": "stdout",
     "output_type": "stream",
     "text": [
      "Would you like to do another plot? (y/n):y\n",
      "Enter feature code For the horizontal axis:2\n",
      "Enter feature code For the vertical axis:3\n"
     ]
    },
    {
     "data": {
      "image/png": "[encoded data removed]",
      "text/plain": [
       "<Figure size 432x288 with 1 Axes>"
      ]
     },
     "metadata": {
      "needs_background": "light"
     },
     "output_type": "display_data"
    },
    {
     "name": "stdout",
     "output_type": "stream",
     "text": [
      "Would you like to do another plot? (y/n):y\n",
      "Enter feature code For the horizontal axis:3\n",
      "Enter feature code For the vertical axis:4\n",
      "Please input 0, 1 or 2\n",
      "Enter feature code For the vertical axis:0\n"
     ]
    },
    {
     "data": {
      "image/png": "[encoded data removed]",
      "text/plain": [
       "<Figure size 432x288 with 1 Axes>"
      ]
     },
     "metadata": {
      "needs_background": "light"
     },
     "output_type": "display_data"
    },
    {
     "name": "stdout",
     "output_type": "stream",
     "text": [
      "Would you like to do another plot? (y/n):n\n",
      "Results was shown above, search is finished\n"
     ]
    }
   ],
   "source": [
    "##############################################################################\n",
    "#          TODO: Use the loop function for plotting figures                 #\n",
    "##############################################################################\n",
    "print('You can do a plot of any two features of the Iris Data set The feature codes are:\\n')\n",
    "print(' 0 = sepal length\\n 1 = sepal width\\n 2 = petal length\\n 3 = petal width\\n')\n",
    "\n",
    "xcode_temp = input('Enter feature code For the horizontal axis:')\n",
    "#the input for xcode can only be 0, 1, 2 or 3\n",
    "while not((xcode_temp =='0') or (xcode_temp =='1')or (xcode_temp =='2')or (xcode_temp =='3')):\n",
    "    print ('Please input 0, 1, 2 or 3')\n",
    "    xcode_temp = input('Enter feature code For the horizontal axis:')\n",
    "    \n",
    "xcode = int(xcode_temp)\n",
    "\n",
    "ycode_temp = input('Enter feature code For the vertical axis:')\n",
    "#the input for ycode can only be 0, 1, 2 or 3\n",
    "while not((ycode_temp =='0') or (ycode_temp =='1')or (ycode_temp =='2')or (ycode_temp =='3')):\n",
    "    print ('Please input 0, 1, 2 or 3')\n",
    "    ycode_temp = input('Enter feature code For the vertical axis:')\n",
    "ycode = int(ycode_temp)\n",
    "\n",
    "plot_feature_map(xcode, ycode)\n",
    "\n",
    "\n",
    "newplot = input('Would you like to do another plot? (y/n):')\n",
    "#the input for another new plot can only be y or n\n",
    "while newplot != 'n' :\n",
    "    \n",
    "    if newplot == 'y' : \n",
    "        xcode_temp = input('Enter feature code For the horizontal axis:')\n",
    "        while not((xcode_temp =='0') or (xcode_temp =='1')or (xcode_temp =='2')or (xcode_temp =='3')):\n",
    "            print ('Please input 0, 1, 2 or 3')\n",
    "            xcode_temp = input('Enter feature code For the horizontal axis:')\n",
    "            \n",
    "            xcode = int(xcode_temp)\n",
    "                \n",
    "        ycode_temp = input('Enter feature code For the vertical axis:')\n",
    "        while not((ycode_temp == '0') or (ycode_temp == '1') or (ycode_temp == '2')or (ycode_temp =='3')) : \n",
    "            print('Please input 0, 1 or 2')\n",
    "            ycode_temp = input('Enter feature code For the vertical axis:')\n",
    "        \n",
    "        ycode = int(ycode_temp)\n",
    "       \n",
    "    \n",
    "        plot_feature_map(xcode, ycode)\n",
    "        newplot = input('Would you like to do another plot? (y/n):')\n",
    "    else:\n",
    "        print('Please enter (y/n)')\n",
    "        newplot = input('Would you like to do another plot? (y/n): ')\n",
    "#if the answer is n, stop looping        \n",
    "print('Results was shown above, search is finished')\n",
    "\n",
    "\n",
    "        \n",
    "\n",
    "##############################################################################\n",
    "#                              END OF YOUR CODE                              #\n",
    "##############################################################################"
   ]
  },
  {
   "cell_type": "markdown",
   "metadata": {},
   "source": [
    "# Conclusion\n",
    "\n",
    "Briefly discuss **which feature combination is the best** for classify the iris data."
   ]
  },
  {
   "cell_type": "markdown",
   "metadata": {},
   "source": [
    "**Your Answer:**  "
   ]
  },
  {
   "cell_type": "code",
   "execution_count": null,
   "metadata": {},
   "outputs": [],
   "source": []
  },
  {
   "cell_type": "code",
   "execution_count": null,
   "metadata": {},
   "outputs": [],
   "source": []
  }
 ],
 "metadata": {
  "kernelspec": {
   "display_name": "Python 3 (ipykernel)",
   "language": "python",
   "name": "python3"
  },
  "language_info": {
   "codemirror_mode": {
    "name": "ipython",
    "version": 3
   },
   "file_extension": ".py",
   "mimetype": "text/x-python",
   "name": "python",
   "nbconvert_exporter": "python",
   "pygments_lexer": "ipython3",
   "version": "3.9.12"
  }
 },
 "nbformat": 4,
 "nbformat_minor": 2
}
