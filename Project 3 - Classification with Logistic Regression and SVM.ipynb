{
 "cells": [
  {
   "cell_type": "markdown",
   "metadata": {},
   "source": [
    "# Project 3: Classification with Logistic Regression and SVM\n",
    "\n",
    "Before we start, please put your name and CUID in following format\n",
    "\n",
    ": Firstname LASTNAME, #00000000   //   e.g. Nianyi LI, #12345678"
   ]
  },
  {
   "cell_type": "markdown",
   "metadata": {},
   "source": [
    "**Your Answer:**   \n",
    "Yujia Sun"
   ]
  },
  {
   "cell_type": "markdown",
   "metadata": {},
   "source": [
    "# General Rules of the Project Submission\n",
    "\n",
    "Python 3 and [Matplotlib](https://matplotlib.org/) will be used throughout the semseter, so it is important to be familiar with them. It is strongly suggested to go through [Stanford CS231n](http://cs231n.github.io/python-numpy-tutorial/) and [CS228](https://github.com/kuleshov/cs228-material/blob/master/tutorials/python/cs228-python-tutorial.ipynb) for more detailed Python and numpy tutorials if you haven't had used Python before. \n",
    "\n",
    "In some cells and files you will see code blocks that look like this:\n",
    "\n",
    "```python\n",
    "##############################################################################\n",
    "#                    TODO: Write the equation for a line                     #\n",
    "##############################################################################\n",
    "pass\n",
    "##############################################################################\n",
    "#                              END OF YOUR CODE                              #\n",
    "##############################################################################\n",
    "```\n",
    "\n",
    "You should replace the `pass` statement with your own code and leave the blocks intact, like this:\n",
    "\n",
    "```python\n",
    "##############################################################################\n",
    "#                    TODO: Write the equation for a line                     #\n",
    "##############################################################################\n",
    "y = m * x + b\n",
    "##############################################################################\n",
    "#                              END OF YOUR CODE                              #\n",
    "##############################################################################\n",
    "```\n",
    "\n",
    "When completing the notebook, please adhere to the following rules:\n",
    "- Do not write or modify any code outside of code blocks\n",
    "- Follow the instruction of the project description carefully\n",
    "- Run all cells before submitting. <span style=\"color:red\">**You will only get credit for code that has been run!**.</span>\n",
    "\n",
    "The last point is extremely important and bears repeating:\n",
    "\n",
    "### We will not re-run your notebook -- <span style=\"color:red\">you will only get credit for cells that have been run</span>\n",
    "\n",
    "### File name\n",
    "Your Python program should be named **yourlastname_yourfirstname_P3.ipynb**, then zip it and upload to Canvas"
   ]
  },
  {
   "cell_type": "markdown",
   "metadata": {},
   "source": [
    "# Project Description\n",
    "\n",
    "For this project we will apply both **Logistic Regression** and **SVM** to predict whether capacitors from a fabrication plant pass quality control based (QC) on two different tests. To train your system and determine its reliability you have a set of 118 examples. The plot of these examples is show below where a red x is a capacitor that failed QC and the green circles represent capacitors that passed QC.\n",
    "\n",
    "<div>\n",
    "<img src=\"https://nianyil.people.clemson.edu/CPSC_4430/P3_new.png\" width=\"500\"/>\n",
    "</div>\n"
   ]
  },
  {
   "cell_type": "markdown",
   "metadata": {},
   "source": [
    "## Data File"
   ]
  },
  {
   "cell_type": "markdown",
   "metadata": {},
   "source": [
    "Two text files with the data is available on Canvas: a training set of 85 examples and a test set of 33 examples. Both are formatted as\n",
    "- First line: **m** and **n**, tab separated\n",
    "- Each line after that has two real numbers representing the results of the two tests, followed by a *1.0* if the capacitor *passed* QC and a *0.0* if it *failed* QC—tab separated.\n",
    "\n",
    "You need to write a code to read data from the file. You **can** use packages, such as **panda**, to load the data.\n"
   ]
  },
  {
   "cell_type": "code",
   "execution_count": 1,
   "metadata": {},
   "outputs": [],
   "source": [
    "##############################################################################\n",
    "#         TODO: Write the code for reading data from file                    #\n",
    "##############################################################################\n",
    "import numpy as np\n",
    "\n",
    "train_data=np.loadtxt('P3train.txt', skiprows=1,delimiter='\\t')\n",
    "test_data=np.loadtxt('P3test.txt', skiprows=1,delimiter='\\t')\n",
    "\n",
    "##############################################################################\n",
    "#                              END OF YOUR CODE                              #\n",
    "##############################################################################"
   ]
  },
  {
   "cell_type": "markdown",
   "metadata": {},
   "source": [
    "Your assignment is to use what you have learned from the class slides and homework to create (**from scratch in Python**, not by using Logistic Regression library function!) a **Logistic Regression** and **SVM** binary classifier to predict whether each capacitor in the test set will pass QC. "
   ]
  },
  {
   "cell_type": "markdown",
   "metadata": {},
   "source": [
    "## Logistic Regression"
   ]
  },
  {
   "cell_type": "markdown",
   "metadata": {},
   "source": [
    "You are free to use any model variation and any testing or training approach we have discussed for logistic regression. In particular, since this data is not linear, I assume you will want to add new features based on power of the original two features to create a good decision boundary. $w_0 + w_1x_1 + w_2x_2$ is not going to work!\n",
    "One choice might be\n",
    "- $\\textbf{w}^T \\textbf{x} = w_0 + w_1x_1 + w_2x_2 + w_3x_3 + w_4x_4 + w_5x_5 +w_6x_6 + w_7x_7 + w_8x_8$    where the new features are created as follows:\n",
    "\n",
    "| New Features |From Original Features |\n",
    "| --- | --- |\n",
    "|$x_1$\t| $x_1$|\n",
    "|$x_2$\t| $x_1^2$|\n",
    "|$x_3$\t| $x_2$||\n",
    "|$x_4$\t| $x_1x_2$|\n",
    "|$x_5$\t| $x_1x_2^2$|\n",
    "|$x_6$\t| $x_2^2$|\n",
    "|$x_7$\t| $x_1^2x_2$|\n",
    "|$x_8$\t| $x_1^2x_2^2$|\n",
    "\n",
    "Note that it is easy to create a small Python program that reads in your  original features, uses a nested loop to create the new features and then writes them to a file:\n",
    "\n",
    "```python\n",
    "thePower = 2\n",
    "for j in range(thePower+1): \n",
    "    for i in range(thePower+1):\n",
    "        temp = (x1**i)*(x2**j)\n",
    "        if (temp != 1):\n",
    "            fout1.write(str(temp)+\"\\t\") fout1.write(str(y)+\"\\n\")\n",
    "```\n",
    "\n",
    "With a few additions to the code, you can make a program to create combinations of any powers of $x_1$ and $x_2$!"
   ]
  },
  {
   "cell_type": "code",
   "execution_count": 2,
   "metadata": {},
   "outputs": [
    {
     "name": "stdout",
     "output_type": "stream",
     "text": [
      "(9, 85)\n",
      "[1.         0.13767    0.01895303 0.57529    0.07920017 0.01090349\n",
      " 0.33095858 0.04556307 0.00627267]\n"
     ]
    }
   ],
   "source": [
    "##############################################################################\n",
    "#           TODO: Define the Logistic regression models                      #\n",
    "##############################################################################\n",
    "x_train = []\n",
    "x1 = train_data[:,0]\n",
    "x2 = train_data[:,1]\n",
    "\n",
    "y_train = train_data[:,2]\n",
    "\n",
    "\n",
    "thePower = 2\n",
    "for j in range(thePower+1): \n",
    "    for i in range(thePower+1):\n",
    "        temp = (x1**i)*(x2**j)\n",
    "        x_train.append(temp)\n",
    "        \n",
    "x_train = np.array(x_train)\n",
    "y_train = np.array(y_train)\n",
    "\n",
    "print(x_train.shape)\n",
    "print(x_train.T[i])\n",
    "\n",
    "\n",
    "##############################################################################\n",
    "#                              END OF YOUR CODE                              #\n",
    "##############################################################################"
   ]
  },
  {
   "cell_type": "markdown",
   "metadata": {},
   "source": [
    "## Optimization using Gradient Decent"
   ]
  },
  {
   "cell_type": "markdown",
   "metadata": {},
   "source": [
    "Once you have defined the logistic regression model, you need to find the weights using the Gradient Decent algorithm. You need to implement the Vanilla Gradient Decent from scratch in Python.\n",
    "\n",
    "You need to specify the hyperparameters of GD, and plot the training loss curve (**J-curve**). The loss function should be the binary cross-entropy loss function that we introduced."
   ]
  },
  {
   "cell_type": "code",
   "execution_count": 3,
   "metadata": {},
   "outputs": [],
   "source": [
    "##############################################################################\n",
    "#           TODO: Implement the Gradient Decent Algorithm                    #\n",
    "##############################################################################\n",
    "# Define the hyperparameters:\n",
    "\n",
    "# Numbers of epoch (epoch_num), learning rate (lr), and the initial weights(w)\n",
    "epoch_num = 20000\n",
    "lr = 0.1\n",
    "w = np.random.rand(9)\n",
    "J = []\n",
    "loss = 0\n",
    "train_accu = []\n",
    "m = x_train.shape[1]\n",
    "\n",
    "def hypothesis(w, x):\n",
    "    H = 1/(1 + np.exp(-np.dot(x,w)))\n",
    "    return H\n",
    "\n",
    "# Define the loss:\n",
    "def cross_entropy_loss(m, y_pred, y):\n",
    "    J = -(1/m)*np.sum(y*np.log(y_pred) + (1-y)*np.log(1-y_pred))\n",
    "    return J\n",
    "\n",
    "# Calculate the gradient function:\n",
    "def gradient_func(m, x, H, y):\n",
    "    GD = (1/m)*np.dot(x, H-y)\n",
    "    return GD\n",
    "\n",
    "#Implement the Gradient decent algorithm using for loop\n",
    "def Vanilla_GD(w, lr, GD):\n",
    "    return w - lr*GD\n",
    "    \n",
    "for j in range(epoch_num):\n",
    "    for i in range(m):\n",
    "        y_pred = hypothesis(w, x_train.T[i])\n",
    "        loss =  loss + cross_entropy_loss(m, y_pred, y_train[i])\n",
    "        GD = gradient_func(m, x_train.T[i], y_pred, y_train[i])\n",
    "        w = Vanilla_GD(w, lr, GD)\n",
    "    J.append(loss/m)\n",
    "    loss = 0\n",
    "    train_pred = hypothesis(w, x_train.T)\n",
    "    train_pred[train_pred>0.5] = 1\n",
    "    train_pred[train_pred<0.5] = 0\n",
    "    accu = np.sum(train_pred == y_train)/m\n",
    "    train_accu.append(accu) \n",
    "\n",
    "\n",
    "##############################################################################\n",
    "#                              END OF YOUR CODE                              #\n",
    "##############################################################################"
   ]
  },
  {
   "cell_type": "markdown",
   "metadata": {},
   "source": [
    "Next, print out the final weights and plot the **J-curve/Loss curve** of training. "
   ]
  },
  {
   "cell_type": "code",
   "execution_count": 4,
   "metadata": {},
   "outputs": [
    {
     "name": "stdout",
     "output_type": "stream",
     "text": [
      "The final weights are:\n",
      "[  4.26105789   2.01779797 -10.08113282   3.28778287  -7.10194402\n",
      "  -1.38239244  -9.16172399   1.66430384  -1.99614392]\n"
     ]
    },
    {
     "data": {
      "image/png": "[encoded data removed]",
      "text/plain": [
       "<Figure size 432x288 with 1 Axes>"
      ]
     },
     "metadata": {
      "needs_background": "light"
     },
     "output_type": "display_data"
    },
    {
     "data": {
      "image/png": "[encoded data removed]",
      "text/plain": [
       "<Figure size 432x288 with 1 Axes>"
      ]
     },
     "metadata": {
      "needs_background": "light"
     },
     "output_type": "display_data"
    }
   ],
   "source": [
    "##############################################################################\n",
    "#                     TODO: Plot the J curve                                 #\n",
    "##############################################################################\n",
    "# Print out the final weights\n",
    "print(f'The final weights are:\\n{w}')\n",
    "\n",
    "# Plot the J curve w.r.t. the iteration numbers\n",
    "import matplotlib.pyplot as plt\n",
    "\n",
    "epochs = list(range(len(J)))\n",
    "\n",
    "plt.plot(epochs,J)\n",
    "\n",
    "plt.xlabel(\"Epochs\")\n",
    "plt.ylabel(\"Loss\")\n",
    "plt.title(\"Loss Curve\")\n",
    "\n",
    "plt.show()\n",
    "\n",
    "# Plot the Accuracy Rate\n",
    "plt.plot(epochs,train_accu) \n",
    "\n",
    "plt.xlabel(\"Epochs\")\n",
    "plt.ylabel(\"Accuracy Rate\")\n",
    "plt.title(\"Training Accuracy\")\n",
    "\n",
    "plt.show()\n",
    "\n",
    "##############################################################################\n",
    "#                              END OF YOUR CODE                              #\n",
    "##############################################################################"
   ]
  },
  {
   "cell_type": "markdown",
   "metadata": {},
   "source": [
    "Based on your data and plot, you should then briefly discuss how you can ensure that the model is well trained.\n",
    "\n",
    "**Your Answer:**  "
   ]
  },
  {
   "cell_type": "markdown",
   "metadata": {},
   "source": [
    "From the the \"Loss Curve\" it tells the model is well trained because the \"loss\" is getting smaller，when the epoch number reach 10000, the model get the best possible loss which is a value very close to zero. Also, the \"Training Accucracy\" plot above shows the accuracy rate for ths model is atleast above 80%. "
   ]
  },
  {
   "cell_type": "markdown",
   "metadata": {},
   "source": [
    "## Model Evaluation"
   ]
  },
  {
   "cell_type": "markdown",
   "metadata": {},
   "source": [
    "Evaluate the performance on testing set:\n",
    "- Print out the confusion matrix\n",
    "- Calculate and print out the *accuracy*, *precision*, *recall*, and *F1* value of your model\n",
    "\n",
    "**Note that:**\n",
    "- For **undergrads** *(CPSC 4430)* the final accuracy of both algorithms on your test set should be higher than  <span style=\"color:red\">**70%**</span>\n",
    "- For **graduate-level** *(CPSC 6430)* the final accuracy of both algorithms on your test set should be higher than  <span style=\"color:red\">**85%**</span>\n"
   ]
  },
  {
   "cell_type": "code",
   "execution_count": 5,
   "metadata": {},
   "outputs": [
    {
     "data": {
      "image/png": "[encoded data removed]",
      "text/plain": [
       "<Figure size 432x288 with 2 Axes>"
      ]
     },
     "metadata": {
      "needs_background": "light"
     },
     "output_type": "display_data"
    },
    {
     "name": "stdout",
     "output_type": "stream",
     "text": [
      "Test Accuracy = 85%\n",
      "Precision = 79%\n",
      "Recall = 94%\n",
      "F1 score = 86%\n"
     ]
    }
   ],
   "source": [
    "##############################################################################\n",
    "#                           TODO: Model Evaluation                           #\n",
    "##############################################################################\n",
    "#Print out the confusion matrix\n",
    "\n",
    "#Test accucracy\n",
    "x1_test = test_data[:,0]\n",
    "x2_test = test_data[:,1]\n",
    "x_test = []\n",
    "\n",
    "thePower = 2\n",
    "for j in range(thePower+1): \n",
    "    for i in range(thePower+1):\n",
    "        temp = (x1_test**i)*(x2_test**j)\n",
    "        x_test.append(temp)\n",
    "        \n",
    "\n",
    "x_test = np.array(x_test)\n",
    "y_test = test_data[:,2]\n",
    "y = hypothesis(w, x_test.T)\n",
    "\n",
    "y[y>0.5] = 1\n",
    "y[y<0.5] = 0\n",
    "test_accu = np.sum(y==y_test)/y_test.size \n",
    "\n",
    "from sklearn import metrics\n",
    "\n",
    "actual = y_test\n",
    "predicted = y\n",
    "\n",
    "confusion_matrix = metrics.confusion_matrix(actual, predicted)\n",
    "\n",
    "cm_display = metrics.ConfusionMatrixDisplay(confusion_matrix = confusion_matrix, display_labels = [False, True])\n",
    "\n",
    "cm_display.plot()\n",
    "\n",
    "plt.title(\"Confusion Matrix\")\n",
    "plt.show()\n",
    "\n",
    "#Calculate and print out the accuracy, precision, recall, and F1 value of your model\n",
    "\n",
    "from sklearn.metrics import precision_recall_fscore_support\n",
    "precision, recall, fscore, sup = precision_recall_fscore_support(y_test, y, average='binary')\n",
    "\n",
    "print(f'Test Accuracy = {test_accu * 100:.0f}%')\n",
    "print(f'Precision = {precision * 100:.0f}%')\n",
    "print(f'Recall = {recall * 100:.0f}%')\n",
    "print(f'F1 score = {fscore * 100:.0f}%')\n",
    "\n",
    "##############################################################################\n",
    "#                              END OF YOUR CODE                              #\n",
    "##############################################################################"
   ]
  },
  {
   "cell_type": "markdown",
   "metadata": {},
   "source": [
    "## Support Vector Machine (SVM)"
   ]
  },
  {
   "cell_type": "markdown",
   "metadata": {},
   "source": [
    "In this part, you need to use the previous training and testing data file. \n",
    "\n",
    "You are **allowed** to use the svm functions in the **Scikit-learn** library and don’t need to implement the algorithm from scratch.\n",
    "\n",
    "- You need to try at least **three** different kernel functions of SVM, and pick the **best** model.\n",
    "- You need to print out the final weights got from your best SVM model.\n",
    "\n",
    "**Note that:**\n",
    "- For **undergrads** *(CPSC 4430)* the final accuracy of both algorithms on your test set should be higher than  <span style=\"color:red\">**70%**</span>\n",
    "- For **graduate-level** *(CPSC 6430)* the final accuracy of both algorithms on your test set should be higher than  <span style=\"color:red\">**85%**</span>"
   ]
  },
  {
   "cell_type": "code",
   "execution_count": 6,
   "metadata": {},
   "outputs": [
    {
     "name": "stdout",
     "output_type": "stream",
     "text": [
      "The score of rbf is : 0.909091\n",
      "The score of linear is : 0.848485\n",
      "The score of poly is : 0.787879\n",
      "\n",
      "The final weights of SVM model using the best model rbf are:\n",
      "[  4.26105789   2.01779797 -10.08113282   3.28778287  -7.10194402\n",
      "  -1.38239244  -9.16172399   1.66430384  -1.99614392]\n"
     ]
    }
   ],
   "source": [
    "##############################################################################\n",
    "#                      TODO: Classfication using SVM                         #\n",
    "##############################################################################\n",
    "# Pick the best model\n",
    "from sklearn import svm\n",
    "\n",
    "# C = np.arange(1, 30)\n",
    "# train_accuracy_rbf = []\n",
    "# train_accuracy_linear = []\n",
    "# train_accuracy_poly = []\n",
    "\n",
    "# test_accuracy_rbf = []\n",
    "# test_accuracy_linear = []\n",
    "# test_accuracy_poly = []\n",
    "\n",
    "\n",
    "# best_test_accuracy = 0\n",
    "\n",
    "# for para in C:\n",
    "    \n",
    "# kernel = 'rbf'\n",
    "kernel = 'rbf'\n",
    "clf_rbf = svm.SVC(kernel='rbf')\n",
    "clf_rbf.fit(x_train.T,y_train)\n",
    "score_rbf = clf_rbf.score(x_test.T,y_test)\n",
    "print(\"The score of rbf is : %f\"%score_rbf)\n",
    "\n",
    "# kernel = 'linear'\n",
    "clf_linear = svm.SVC(kernel='linear')\n",
    "clf_linear.fit(x_train.T,y_train)\n",
    "score_linear = clf_linear.score(x_test.T,y_test)\n",
    "print(\"The score of linear is : %f\"%score_linear)\n",
    "\n",
    "# kernel = 'poly'\n",
    "clf_poly = svm.SVC(kernel='poly')\n",
    "clf_poly.fit(x_train.T,y_train)\n",
    "score_poly = clf_poly.score(x_test.T,y_test)\n",
    "print(\"The score of poly is : %f\"%score_poly)\n",
    "\n",
    "# Print out the final weights\n",
    "\n",
    "clf_best = svm.SVC(kernel='rbf')\n",
    "train_accuracy_best = (clf_best.fit(x_train.T, y_train).score(x_train.T, y_train))\n",
    "\n",
    "    \n",
    "y_pred_best = clf_best.predict(x_test.T)\n",
    "y_train_best = clf_best.predict(x_train.T)\n",
    "test_accuracy_best = metrics.accuracy_score(y_test, y_pred_best)\n",
    "\n",
    "w_rbf = clf_best.dual_coef_  \n",
    "\n",
    "print(f'\\nThe final weights of SVM model using the best model rbf are:\\n{w}')\n",
    "##############################################################################\n",
    "#                              END OF YOUR CODE                              #\n",
    "##############################################################################"
   ]
  },
  {
   "cell_type": "markdown",
   "metadata": {},
   "source": [
    "## Visualize Decision Boundary and Model Comparision"
   ]
  },
  {
   "cell_type": "markdown",
   "metadata": {},
   "source": [
    "You need to plot the decision boundary of Logistic Regression and SVM that you previously trained separately. "
   ]
  },
  {
   "cell_type": "code",
   "execution_count": 7,
   "metadata": {},
   "outputs": [
    {
     "data": {
      "image/png": "[encoded data removed]",
      "text/plain": [
       "<Figure size 360x720 with 2 Axes>"
      ]
     },
     "metadata": {
      "needs_background": "light"
     },
     "output_type": "display_data"
    }
   ],
   "source": [
    "##############################################################################\n",
    "#                   TODO: Plot the Decision Boundary                         #\n",
    "##############################################################################\n",
    "from matplotlib.colors import ListedColormap\n",
    "\n",
    "\n",
    "x1_train_np = np.array(x1)\n",
    "x2_train_np = np.array(x2)\n",
    "\n",
    "\n",
    "x_min, x_max = x1_train_np.min() - .5, x1_train_np.max() + .5\n",
    "y_min, y_max = x2_train_np.min() - .5, x2_train_np.max() + .5\n",
    "xx, yy = np.meshgrid(np.arange(x_min, x_max, .01), np.arange(y_min, y_max, .01))\n",
    "\n",
    "\n",
    "x_train_plot = []\n",
    "\n",
    "for j in range(thePower+1): \n",
    "    for i in range(thePower+1):\n",
    "        temp = (xx.ravel()**i)*(yy.ravel()**j)\n",
    "        x_train_plot.append(temp)\n",
    "\n",
    "x_train_plot = np.array(x_train_plot)\n",
    "\n",
    "plt.figure(figsize=(5, 10))\n",
    "plt.subplot(2, 1, 1)\n",
    "\n",
    "Z = clf_best.predict(x_train_plot.T)\n",
    "Z = Z.reshape(xx.shape)\n",
    "\n",
    "plt.title('Decision Boundary for SVM')\n",
    "svm_plot = plt.contourf(xx, yy, Z, cmap=plt.cm.coolwarm, alpha=0.8)\n",
    "svm_plot = plt.scatter(x1_train_np, x2_train_np, c=y_train, cmap=plt.cm.coolwarm)\n",
    "plt.subplots_adjust(hspace=0.3)\n",
    "\n",
    "\n",
    "plt.subplot(2, 1, 2)\n",
    "Z1 = hypothesis(w, x_train_plot.T)\n",
    "\n",
    "Z1[Z1>0.5] = 1\n",
    "Z1[Z1<0.5] = 0\n",
    "Z1 = Z1.reshape(xx.shape)\n",
    "plt.title('Decision Boundary for logistic regression')\n",
    "logis_plot = plt.contourf(xx, yy, Z1, cmap=plt.cm.coolwarm, alpha=0.8)\n",
    "logis_plot = plt.scatter(x1_train_np, x2_train_np, c=y_train, cmap=plt.cm.coolwarm)\n",
    "\n",
    "##############################################################################\n",
    "#                              END OF YOUR CODE                              #\n",
    "##############################################################################"
   ]
  },
  {
   "cell_type": "markdown",
   "metadata": {},
   "source": [
    "Based on your data and plot, you should then briefly discuss which one has better performance and why.\n",
    "\n",
    "**Your Answer:**  "
   ]
  },
  {
   "cell_type": "markdown",
   "metadata": {},
   "source": [
    "The SVM has slightly better performance because its boundary is more clear than the Logistic Regression, so it better separate the data."
   ]
  }
 ],
 "metadata": {
  "kernelspec": {
   "display_name": "Python 3 (ipykernel)",
   "language": "python",
   "name": "python3"
  },
  "language_info": {
   "codemirror_mode": {
    "name": "ipython",
    "version": 3
   },
   "file_extension": ".py",
   "mimetype": "text/x-python",
   "name": "python",
   "nbconvert_exporter": "python",
   "pygments_lexer": "ipython3",
   "version": "3.9.12"
  }
 },
 "nbformat": 4,
 "nbformat_minor": 2
}
